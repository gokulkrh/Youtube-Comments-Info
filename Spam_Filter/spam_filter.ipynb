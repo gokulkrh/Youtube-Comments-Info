{
  "cells": [
    {
      "cell_type": "code",
      "execution_count": null,
      "metadata": {
        "id": "CJcxmwTUWzUk"
      },
      "outputs": [],
      "source": [
        "import pandas as pd\n",
        "import matplotlib.pyplot as plt\n",
        "from nltk.corpus import stopwords\n",
        "from textblob import Word\n",
        "\n",
        "from sklearn import preprocessing\n",
        "from sklearn.model_selection import train_test_split\n",
        "\n",
        "from sklearn.feature_extraction.text import CountVectorizer\n",
        "from sklearn.linear_model import SGDClassifier\n",
        "from sklearn.metrics import accuracy_score, precision_score, recall_score, f1_score\n",
        "\n",
        "import nltk\n",
        "nltk.download('stopwords')\n",
        "stop = stopwords.words('english')\n",
        "nltk.download('wordnet')\n",
        "nltk.download('omw-1.4')\n",
        "\n",
        "import re\n",
        "import html"
      ]
    },
    {
      "cell_type": "markdown",
      "source": [
        "#Acquiring Dataset\n",
        "\n",
        "The data used in this module is the <a href=\"https://archive.ics.uci.edu/ml/datasets/Youtube+Spam+Collection\">YouTube Spam Collection Data Set.</a>"
      ],
      "metadata": {
        "id": "q6vXuv1uJOt2"
      }
    },
    {
      "cell_type": "code",
      "execution_count": 3,
      "metadata": {
        "colab": {
          "base_uri": "https://localhost:8080/",
          "height": 423
        },
        "id": "k3k4szrtXrpc",
        "outputId": "3226962b-d05e-4f78-d3de-b20fe5509d16"
      },
      "outputs": [
        {
          "output_type": "execute_result",
          "data": {
            "text/plain": [
              "                                               Comment  Spam\n",
              "0    Huh, anyway check out this you[tube] channel: ...     1\n",
              "1    Hey guys check out my new channel and our firs...     1\n",
              "2               just for test I have to say murdev.com     1\n",
              "3     me shaking my sexy ass on my channel enjoy ^_^ ﻿     1\n",
              "4              watch?v=vtaRGgvGtWQ   Check this out .﻿     1\n",
              "..                                                 ...   ...\n",
              "365  I love this song because we sing it at Camp al...     0\n",
              "366  I love this song for two reasons: 1.it is abou...     0\n",
              "367                                                wow     0\n",
              "368                            Shakira u are so wiredo     0\n",
              "369                         Shakira is the best dancer     0\n",
              "\n",
              "[1956 rows x 2 columns]"
            ],
            "text/html": [
              "\n",
              "  <div id=\"df-acbd99de-fc97-4868-8d15-4af7cc92a42d\">\n",
              "    <div class=\"colab-df-container\">\n",
              "      <div>\n",
              "<style scoped>\n",
              "    .dataframe tbody tr th:only-of-type {\n",
              "        vertical-align: middle;\n",
              "    }\n",
              "\n",
              "    .dataframe tbody tr th {\n",
              "        vertical-align: top;\n",
              "    }\n",
              "\n",
              "    .dataframe thead th {\n",
              "        text-align: right;\n",
              "    }\n",
              "</style>\n",
              "<table border=\"1\" class=\"dataframe\">\n",
              "  <thead>\n",
              "    <tr style=\"text-align: right;\">\n",
              "      <th></th>\n",
              "      <th>Comment</th>\n",
              "      <th>Spam</th>\n",
              "    </tr>\n",
              "  </thead>\n",
              "  <tbody>\n",
              "    <tr>\n",
              "      <th>0</th>\n",
              "      <td>Huh, anyway check out this you[tube] channel: ...</td>\n",
              "      <td>1</td>\n",
              "    </tr>\n",
              "    <tr>\n",
              "      <th>1</th>\n",
              "      <td>Hey guys check out my new channel and our firs...</td>\n",
              "      <td>1</td>\n",
              "    </tr>\n",
              "    <tr>\n",
              "      <th>2</th>\n",
              "      <td>just for test I have to say murdev.com</td>\n",
              "      <td>1</td>\n",
              "    </tr>\n",
              "    <tr>\n",
              "      <th>3</th>\n",
              "      <td>me shaking my sexy ass on my channel enjoy ^_^ ﻿</td>\n",
              "      <td>1</td>\n",
              "    </tr>\n",
              "    <tr>\n",
              "      <th>4</th>\n",
              "      <td>watch?v=vtaRGgvGtWQ   Check this out .﻿</td>\n",
              "      <td>1</td>\n",
              "    </tr>\n",
              "    <tr>\n",
              "      <th>...</th>\n",
              "      <td>...</td>\n",
              "      <td>...</td>\n",
              "    </tr>\n",
              "    <tr>\n",
              "      <th>365</th>\n",
              "      <td>I love this song because we sing it at Camp al...</td>\n",
              "      <td>0</td>\n",
              "    </tr>\n",
              "    <tr>\n",
              "      <th>366</th>\n",
              "      <td>I love this song for two reasons: 1.it is abou...</td>\n",
              "      <td>0</td>\n",
              "    </tr>\n",
              "    <tr>\n",
              "      <th>367</th>\n",
              "      <td>wow</td>\n",
              "      <td>0</td>\n",
              "    </tr>\n",
              "    <tr>\n",
              "      <th>368</th>\n",
              "      <td>Shakira u are so wiredo</td>\n",
              "      <td>0</td>\n",
              "    </tr>\n",
              "    <tr>\n",
              "      <th>369</th>\n",
              "      <td>Shakira is the best dancer</td>\n",
              "      <td>0</td>\n",
              "    </tr>\n",
              "  </tbody>\n",
              "</table>\n",
              "<p>1956 rows × 2 columns</p>\n",
              "</div>\n",
              "      <button class=\"colab-df-convert\" onclick=\"convertToInteractive('df-acbd99de-fc97-4868-8d15-4af7cc92a42d')\"\n",
              "              title=\"Convert this dataframe to an interactive table.\"\n",
              "              style=\"display:none;\">\n",
              "        \n",
              "  <svg xmlns=\"http://www.w3.org/2000/svg\" height=\"24px\"viewBox=\"0 0 24 24\"\n",
              "       width=\"24px\">\n",
              "    <path d=\"M0 0h24v24H0V0z\" fill=\"none\"/>\n",
              "    <path d=\"M18.56 5.44l.94 2.06.94-2.06 2.06-.94-2.06-.94-.94-2.06-.94 2.06-2.06.94zm-11 1L8.5 8.5l.94-2.06 2.06-.94-2.06-.94L8.5 2.5l-.94 2.06-2.06.94zm10 10l.94 2.06.94-2.06 2.06-.94-2.06-.94-.94-2.06-.94 2.06-2.06.94z\"/><path d=\"M17.41 7.96l-1.37-1.37c-.4-.4-.92-.59-1.43-.59-.52 0-1.04.2-1.43.59L10.3 9.45l-7.72 7.72c-.78.78-.78 2.05 0 2.83L4 21.41c.39.39.9.59 1.41.59.51 0 1.02-.2 1.41-.59l7.78-7.78 2.81-2.81c.8-.78.8-2.07 0-2.86zM5.41 20L4 18.59l7.72-7.72 1.47 1.35L5.41 20z\"/>\n",
              "  </svg>\n",
              "      </button>\n",
              "      \n",
              "  <style>\n",
              "    .colab-df-container {\n",
              "      display:flex;\n",
              "      flex-wrap:wrap;\n",
              "      gap: 12px;\n",
              "    }\n",
              "\n",
              "    .colab-df-convert {\n",
              "      background-color: #E8F0FE;\n",
              "      border: none;\n",
              "      border-radius: 50%;\n",
              "      cursor: pointer;\n",
              "      display: none;\n",
              "      fill: #1967D2;\n",
              "      height: 32px;\n",
              "      padding: 0 0 0 0;\n",
              "      width: 32px;\n",
              "    }\n",
              "\n",
              "    .colab-df-convert:hover {\n",
              "      background-color: #E2EBFA;\n",
              "      box-shadow: 0px 1px 2px rgba(60, 64, 67, 0.3), 0px 1px 3px 1px rgba(60, 64, 67, 0.15);\n",
              "      fill: #174EA6;\n",
              "    }\n",
              "\n",
              "    [theme=dark] .colab-df-convert {\n",
              "      background-color: #3B4455;\n",
              "      fill: #D2E3FC;\n",
              "    }\n",
              "\n",
              "    [theme=dark] .colab-df-convert:hover {\n",
              "      background-color: #434B5C;\n",
              "      box-shadow: 0px 1px 3px 1px rgba(0, 0, 0, 0.15);\n",
              "      filter: drop-shadow(0px 1px 2px rgba(0, 0, 0, 0.3));\n",
              "      fill: #FFFFFF;\n",
              "    }\n",
              "  </style>\n",
              "\n",
              "      <script>\n",
              "        const buttonEl =\n",
              "          document.querySelector('#df-acbd99de-fc97-4868-8d15-4af7cc92a42d button.colab-df-convert');\n",
              "        buttonEl.style.display =\n",
              "          google.colab.kernel.accessAllowed ? 'block' : 'none';\n",
              "\n",
              "        async function convertToInteractive(key) {\n",
              "          const element = document.querySelector('#df-acbd99de-fc97-4868-8d15-4af7cc92a42d');\n",
              "          const dataTable =\n",
              "            await google.colab.kernel.invokeFunction('convertToInteractive',\n",
              "                                                     [key], {});\n",
              "          if (!dataTable) return;\n",
              "\n",
              "          const docLinkHtml = 'Like what you see? Visit the ' +\n",
              "            '<a target=\"_blank\" href=https://colab.research.google.com/notebooks/data_table.ipynb>data table notebook</a>'\n",
              "            + ' to learn more about interactive tables.';\n",
              "          element.innerHTML = '';\n",
              "          dataTable['output_type'] = 'display_data';\n",
              "          await google.colab.output.renderOutput(dataTable, element);\n",
              "          const docLink = document.createElement('div');\n",
              "          docLink.innerHTML = docLinkHtml;\n",
              "          element.appendChild(docLink);\n",
              "        }\n",
              "      </script>\n",
              "    </div>\n",
              "  </div>\n",
              "  "
            ]
          },
          "metadata": {},
          "execution_count": 3
        }
      ],
      "source": [
        "df = pd.concat([pd.read_csv(\"Youtube01-Psy.csv\"),\n",
        "               pd.read_csv(\"Youtube02-KatyPerry.csv\"),\n",
        "               pd.read_csv(\"Youtube03-LMFAO.csv\"),\n",
        "               pd.read_csv(\"Youtube04-Eminem.csv\"),\n",
        "               pd.read_csv(\"Youtube05-Shakira.csv\")])\n",
        "df = df[[\"CONTENT\", \"CLASS\"]]\n",
        "df = df.rename(columns = {'CONTENT': 'Comment', 'CLASS': 'Spam'}, inplace = False)\n",
        "df"
      ]
    },
    {
      "cell_type": "markdown",
      "source": [
        "#Data Visualization"
      ],
      "metadata": {
        "id": "Nt6LBKrvJ6D-"
      }
    },
    {
      "cell_type": "code",
      "source": [
        "df.Spam.value_counts().plot.bar()\n",
        "plt.show()"
      ],
      "metadata": {
        "colab": {
          "base_uri": "https://localhost:8080/",
          "height": 425
        },
        "id": "L02DSPbPKFi4",
        "outputId": "6b457210-7d40-4d66-ced3-3bd260c062b9"
      },
      "execution_count": 7,
      "outputs": [
        {
          "output_type": "display_data",
          "data": {
            "text/plain": [
              "<Figure size 640x480 with 1 Axes>"
            ],
            "image/png": "[encoded data removed]"
          },
          "metadata": {}
        }
      ]
    },
    {
      "cell_type": "code",
      "execution_count": 8,
      "metadata": {
        "colab": {
          "base_uri": "https://localhost:8080/"
        },
        "id": "hioPqGQhYL2s",
        "outputId": "9ff8dfb2-bcda-470f-aebf-9a81b83062dd"
      },
      "outputs": [
        {
          "output_type": "stream",
          "name": "stdout",
          "text": [
            "1    1005\n",
            "0     951\n",
            "Name: Spam, dtype: int64\n"
          ]
        }
      ],
      "source": [
        "print(df.Spam.value_counts())"
      ]
    },
    {
      "cell_type": "markdown",
      "source": [
        "#Data Preprocessing"
      ],
      "metadata": {
        "id": "hlslour4KXRm"
      }
    },
    {
      "cell_type": "code",
      "execution_count": null,
      "metadata": {
        "id": "W3pz0KQ3cGiq"
      },
      "outputs": [],
      "source": [
        "def de_repeat(text):                                                            #removing repeated characters in words (changes words like booooook into book)\n",
        "  pattern = re.compile(r\"(.)\\1{2,}\")\n",
        "  return pattern.sub(r\"\\1\\1\", text)"
      ]
    },
    {
      "cell_type": "code",
      "execution_count": null,
      "metadata": {
        "id": "V8kR075ljjtp"
      },
      "outputs": [],
      "source": [
        "def remove_html(raw_comment):\n",
        "  raw_comment = re.sub(r'<br>', \" \", raw_comment)\n",
        "  raw_comment = re.sub(r'<b>', \" \", raw_comment)\n",
        "  raw_comment = re.sub(r'</b>', \" \", raw_comment)\n",
        "  raw_comment = html.unescape(raw_comment)\n",
        "  raw_comment = re.sub(r'\\n', \"\", raw_comment)\n",
        "  raw_comment = re.sub(r'\\t', \"\", raw_comment)\n",
        "  raw_comment = re.sub(r'<[^<]+?>', '', raw_comment)\n",
        "  return raw_comment"
      ]
    },
    {
      "cell_type": "code",
      "execution_count": null,
      "metadata": {
        "id": "XRqtQeX7dHqC"
      },
      "outputs": [],
      "source": [
        "df['Comment'] = df['Comment'].apply(remove_html)\n",
        "df['Comment'] = df['Comment'].str.replace(\"@[A-Za-z0-9_]+\", \"\")                       #The text in the datasets are from tweets that contain links, #hashtags and @mentions\n",
        "df['Comment'] = df['Comment'].str.replace(\"#[A-Za-z0-9_]+\", \"\")                       #These have to be removed\n",
        "df['Comment'] = df['Comment'].str.replace(\"^https?:\\/\\/.*[\\r\\n]*\", \"\")\n",
        "df['Comment'] = df['Comment'].apply(lambda x: \" \".join(x.lower() for x in x.split())) #changing text to lowercase\n",
        "df['Comment'] = df['Comment'].str.replace('[^\\w\\s]',' ')                              #removing punctuation and digits\n",
        "df['Comment'] = df['Comment'].str.replace('[0-9]', ' ')\n",
        "df['Comment'] = df['Comment'].apply(lambda x: \" \".join(x for x in x.split() if x not in stop))        #removing stopwords\n",
        "df['Comment'] = df['Comment'].apply(lambda x: \" \".join([Word(word).lemmatize() for word in x.split()]))       #lemmatizing words\n",
        "df['Comment'] = df['Comment'].apply(lambda x: \" \".join(de_repeat(x) for x in x.split()))  "
      ]
    },
    {
      "cell_type": "markdown",
      "source": [
        "#Training and evaluation"
      ],
      "metadata": {
        "id": "dLy9O4aQKrr4"
      }
    },
    {
      "cell_type": "code",
      "execution_count": null,
      "metadata": {
        "id": "uF2rSyF8deB7"
      },
      "outputs": [],
      "source": [
        "y = df.Spam.values\n",
        "X_train, X_test, y_train, y_test = train_test_split(df.Comment.values, y, stratify=y, random_state=42, test_size=0.3, shuffle=True)"
      ]
    },
    {
      "cell_type": "code",
      "execution_count": null,
      "metadata": {
        "id": "7VqcwHzSeIvY"
      },
      "outputs": [],
      "source": [
        "count_vect = CountVectorizer(analyzer='word')                                   #vectorizing words using count vectorizer\n",
        "count_vect.fit(df['Comment'])\n",
        "X_train_count =  count_vect.transform(X_train)\n",
        "X_test_count =  count_vect.transform(X_test)"
      ]
    },
    {
      "cell_type": "code",
      "execution_count": null,
      "metadata": {
        "colab": {
          "base_uri": "https://localhost:8080/"
        },
        "id": "CBvGdOMnee5V",
        "outputId": "2ba7b119-4fa7-40bf-846f-3c507c26b917"
      },
      "outputs": [
        {
          "name": "stdout",
          "output_type": "stream",
          "text": [
            "Lsvm accuracy 0.9131175468483816\n",
            "Lsvm precision 0.8609271523178808\n",
            "Lsvm recall 0.966542750929368\n",
            "Lsvm f1 score 0.9106830122591943\n"
          ]
        }
      ],
      "source": [
        "model = SGDClassifier(alpha=0.002)        #lsvm gave highest accuracy among the models tested.\n",
        "model.fit(X_train_count, y_train)\n",
        "y_pred = model.predict(X_test_count)\n",
        "print('Lsvm accuracy %s' % accuracy_score(y_pred, y_test))\n",
        "print('Lsvm precision %s' % precision_score(y_pred, y_test))\n",
        "print('Lsvm recall %s' % recall_score(y_pred, y_test))\n",
        "print('Lsvm f1 score %s' % f1_score(y_pred, y_test))"
      ]
    },
    {
      "cell_type": "code",
      "execution_count": null,
      "metadata": {
        "id": "OSyahS9GuJg6"
      },
      "outputs": [],
      "source": []
    }
  ],
  "metadata": {
    "colab": {
      "provenance": []
    },
    "gpuClass": "standard",
    "kernelspec": {
      "display_name": "Python 3",
      "name": "python3"
    },
    "language_info": {
      "name": "python"
    }
  },
  "nbformat": 4,
  "nbformat_minor": 0
}